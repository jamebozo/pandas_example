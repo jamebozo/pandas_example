{
 "cells": [
  {
   "cell_type": "code",
   "execution_count": 1,
   "metadata": {},
   "outputs": [],
   "source": [
    "import pandas as pd"
   ]
  },
  {
   "cell_type": "code",
   "execution_count": 2,
   "metadata": {},
   "outputs": [],
   "source": [
    "_5year_excel = pd.ExcelFile('5年版本.xlsx')   # pd.read_excel('5年版本.xlsx')\n",
    "_6year_excel = pd.ExcelFile('6年版本.xlsx')"
   ]
  },
  {
   "cell_type": "code",
   "execution_count": 4,
   "metadata": {},
   "outputs": [
    {
     "name": "stdout",
     "output_type": "stream",
     "text": [
      "['WRDS', 'Duality']\n",
      "['工作表2', 'FINAL', '工作表1']\n"
     ]
    }
   ],
   "source": [
    "# show sheet name\n",
    "print(_5year_excel.sheet_names)\n",
    "print(_6year_excel.sheet_names)\n",
    "\n",
    "# head()"
   ]
  },
  {
   "cell_type": "code",
   "execution_count": 5,
   "metadata": {},
   "outputs": [],
   "source": [
    "# read sheet to data frame\n",
    "_5df = pd.read_excel(_5year_excel, 'WRDS')\n",
    "_6df = pd.read_excel(_6year_excel, '工作表2')"
   ]
  },
  {
   "cell_type": "code",
   "execution_count": 6,
   "metadata": {},
   "outputs": [
    {
     "data": {
      "text/html": [
       "<div>\n",
       "<style scoped>\n",
       "    .dataframe tbody tr th:only-of-type {\n",
       "        vertical-align: middle;\n",
       "    }\n",
       "\n",
       "    .dataframe tbody tr th {\n",
       "        vertical-align: top;\n",
       "    }\n",
       "\n",
       "    .dataframe thead th {\n",
       "        text-align: right;\n",
       "    }\n",
       "</style>\n",
       "<table border=\"1\" class=\"dataframe\">\n",
       "  <thead>\n",
       "    <tr style=\"text-align: right;\">\n",
       "      <th></th>\n",
       "      <th>Global Company Key</th>\n",
       "      <th>Data Date</th>\n",
       "      <th>Data Year - Fiscal</th>\n",
       "      <th>Industry Format</th>\n",
       "      <th>Level of Consolidation - Company Annual Descriptor</th>\n",
       "      <th>Population Source</th>\n",
       "      <th>Data Format</th>\n",
       "      <th>Ticker Symbol</th>\n",
       "      <th>CUSIP</th>\n",
       "      <th>Company Name</th>\n",
       "      <th>...</th>\n",
       "      <th>Price Close - Annual - Calendar</th>\n",
       "      <th>City</th>\n",
       "      <th>GIC Industries</th>\n",
       "      <th>Standard Industry Classification Code</th>\n",
       "      <th>S&amp;P Industry Sector Code</th>\n",
       "      <th>Market Value</th>\n",
       "      <th>Total assets</th>\n",
       "      <th>Tobin's Q</th>\n",
       "      <th>ROA</th>\n",
       "      <th>Leverage</th>\n",
       "    </tr>\n",
       "  </thead>\n",
       "  <tbody>\n",
       "    <tr>\n",
       "      <th>0</th>\n",
       "      <td>1004</td>\n",
       "      <td>20140531</td>\n",
       "      <td>2014.0</td>\n",
       "      <td>INDL</td>\n",
       "      <td>C</td>\n",
       "      <td>D</td>\n",
       "      <td>STD</td>\n",
       "      <td>AIR</td>\n",
       "      <td>361105</td>\n",
       "      <td>AAR CORP</td>\n",
       "      <td>...</td>\n",
       "      <td>28.01</td>\n",
       "      <td>Wood Dale</td>\n",
       "      <td>201010.0</td>\n",
       "      <td>5080.0</td>\n",
       "      <td>110.0</td>\n",
       "      <td>1108.0756</td>\n",
       "      <td>2199.5</td>\n",
       "      <td>0.503785</td>\n",
       "      <td>0.033144</td>\n",
       "      <td>0.288247</td>\n",
       "    </tr>\n",
       "  </tbody>\n",
       "</table>\n",
       "<p>1 rows × 29 columns</p>\n",
       "</div>"
      ],
      "text/plain": [
       "   Global Company Key  Data Date  Data Year - Fiscal Industry Format  \\\n",
       "0                1004   20140531              2014.0            INDL   \n",
       "\n",
       "  Level of Consolidation - Company Annual Descriptor Population Source  \\\n",
       "0                                                  C                 D   \n",
       "\n",
       "  Data Format Ticker Symbol   CUSIP Company Name  ...  \\\n",
       "0         STD           AIR  361105     AAR CORP  ...   \n",
       "\n",
       "  Price Close - Annual - Calendar       City  GIC Industries  \\\n",
       "0                           28.01  Wood Dale        201010.0   \n",
       "\n",
       "   Standard Industry Classification Code  S&P Industry Sector Code  \\\n",
       "0                                 5080.0                     110.0   \n",
       "\n",
       "   Market Value  Total assets  Tobin's Q       ROA  Leverage  \n",
       "0     1108.0756        2199.5   0.503785  0.033144  0.288247  \n",
       "\n",
       "[1 rows x 29 columns]"
      ]
     },
     "execution_count": 6,
     "metadata": {},
     "output_type": "execute_result"
    }
   ],
   "source": [
    "# show sheet\n",
    "_5df.head(1)"
   ]
  },
  {
   "cell_type": "code",
   "execution_count": 7,
   "metadata": {},
   "outputs": [
    {
     "data": {
      "text/html": [
       "<div>\n",
       "<style scoped>\n",
       "    .dataframe tbody tr th:only-of-type {\n",
       "        vertical-align: middle;\n",
       "    }\n",
       "\n",
       "    .dataframe tbody tr th {\n",
       "        vertical-align: top;\n",
       "    }\n",
       "\n",
       "    .dataframe thead th {\n",
       "        text-align: right;\n",
       "    }\n",
       "</style>\n",
       "<table border=\"1\" class=\"dataframe\">\n",
       "  <thead>\n",
       "    <tr style=\"text-align: right;\">\n",
       "      <th></th>\n",
       "      <th>Data Year - Fiscal</th>\n",
       "      <th>Ticker Symbol</th>\n",
       "      <th>Tobin's Q</th>\n",
       "      <th>ROA</th>\n",
       "      <th>Industry</th>\n",
       "      <th>Board Size (log)</th>\n",
       "      <th>Directors outside %</th>\n",
       "      <th>Board ownership</th>\n",
       "      <th>Board Meetings (log)</th>\n",
       "      <th>CEO duality</th>\n",
       "      <th>Firm Size (log)</th>\n",
       "      <th>Firm Age (log)</th>\n",
       "      <th>Leverage</th>\n",
       "    </tr>\n",
       "  </thead>\n",
       "  <tbody>\n",
       "    <tr>\n",
       "      <th>0</th>\n",
       "      <td>2014</td>\n",
       "      <td>AIR</td>\n",
       "      <td>0.503785</td>\n",
       "      <td>0.064833</td>\n",
       "      <td>Wholesale Trade</td>\n",
       "      <td>1.041393</td>\n",
       "      <td>0.818182</td>\n",
       "      <td>0.06918</td>\n",
       "      <td>0.69897</td>\n",
       "      <td>1</td>\n",
       "      <td>3.342324</td>\n",
       "      <td>1.792392</td>\n",
       "      <td>0.288247</td>\n",
       "    </tr>\n",
       "  </tbody>\n",
       "</table>\n",
       "</div>"
      ],
      "text/plain": [
       "   Data Year - Fiscal Ticker Symbol  Tobin's Q       ROA         Industry  \\\n",
       "0                2014           AIR   0.503785  0.064833  Wholesale Trade   \n",
       "\n",
       "   Board Size (log)  Directors outside %  Board ownership  \\\n",
       "0          1.041393             0.818182          0.06918   \n",
       "\n",
       "   Board Meetings (log)  CEO duality  Firm Size (log)  Firm Age (log)  \\\n",
       "0               0.69897            1         3.342324        1.792392   \n",
       "\n",
       "   Leverage  \n",
       "0  0.288247  "
      ]
     },
     "execution_count": 7,
     "metadata": {},
     "output_type": "execute_result"
    }
   ],
   "source": [
    "_6df.head(1)"
   ]
  },
  {
   "cell_type": "code",
   "execution_count": 8,
   "metadata": {},
   "outputs": [
    {
     "data": {
      "text/html": [
       "<div>\n",
       "<style scoped>\n",
       "    .dataframe tbody tr th:only-of-type {\n",
       "        vertical-align: middle;\n",
       "    }\n",
       "\n",
       "    .dataframe tbody tr th {\n",
       "        vertical-align: top;\n",
       "    }\n",
       "\n",
       "    .dataframe thead th {\n",
       "        text-align: right;\n",
       "    }\n",
       "</style>\n",
       "<table border=\"1\" class=\"dataframe\">\n",
       "  <thead>\n",
       "    <tr style=\"text-align: right;\">\n",
       "      <th></th>\n",
       "      <th>Data Year - Fiscal</th>\n",
       "      <th>Company Name</th>\n",
       "      <th>Market Value</th>\n",
       "    </tr>\n",
       "  </thead>\n",
       "  <tbody>\n",
       "    <tr>\n",
       "      <th>0</th>\n",
       "      <td>2014.0</td>\n",
       "      <td>AAR CORP</td>\n",
       "      <td>1108.07560</td>\n",
       "    </tr>\n",
       "    <tr>\n",
       "      <th>1</th>\n",
       "      <td>2015.0</td>\n",
       "      <td>AAR CORP</td>\n",
       "      <td>984.05094</td>\n",
       "    </tr>\n",
       "    <tr>\n",
       "      <th>2</th>\n",
       "      <td>2016.0</td>\n",
       "      <td>AAR CORP</td>\n",
       "      <td>907.39935</td>\n",
       "    </tr>\n",
       "    <tr>\n",
       "      <th>3</th>\n",
       "      <td>2017.0</td>\n",
       "      <td>AAR CORP</td>\n",
       "      <td>1135.39970</td>\n",
       "    </tr>\n",
       "    <tr>\n",
       "      <th>4</th>\n",
       "      <td>2018.0</td>\n",
       "      <td>AAR CORP</td>\n",
       "      <td>1363.99164</td>\n",
       "    </tr>\n",
       "  </tbody>\n",
       "</table>\n",
       "</div>"
      ],
      "text/plain": [
       "   Data Year - Fiscal Company Name  Market Value\n",
       "0              2014.0     AAR CORP    1108.07560\n",
       "1              2015.0     AAR CORP     984.05094\n",
       "2              2016.0     AAR CORP     907.39935\n",
       "3              2017.0     AAR CORP    1135.39970\n",
       "4              2018.0     AAR CORP    1363.99164"
      ]
     },
     "execution_count": 8,
     "metadata": {},
     "output_type": "execute_result"
    }
   ],
   "source": [
    "# vlookup\n",
    "\n",
    "# ex: keyword \"AAR CORP\"\n",
    "filt = (_5df['Company Name'] == 'AAR CORP')\n",
    "\n",
    "# show \"Company Name\" that's 'AAR CORP'\n",
    "show_col = ['Data Year - Fiscal', 'Company Name', 'Market Value']  # show only these columns\n",
    "_5df.loc[filt, show_col]"
   ]
  },
  {
   "cell_type": "code",
   "execution_count": 9,
   "metadata": {},
   "outputs": [
    {
     "name": "stdout",
     "output_type": "stream",
     "text": [
      "   Data Year - Fiscal Company Name  Market Value\n",
      "0              2014.0     AAR CORP    1108.07560\n",
      "1              2015.0     AAR CORP     984.05094\n",
      "2              2016.0     AAR CORP     907.39935\n",
      "3              2017.0     AAR CORP    1135.39970\n",
      "4              2018.0     AAR CORP    1363.99164\n"
     ]
    },
    {
     "data": {
      "text/html": [
       "<div>\n",
       "<style scoped>\n",
       "    .dataframe tbody tr th:only-of-type {\n",
       "        vertical-align: middle;\n",
       "    }\n",
       "\n",
       "    .dataframe tbody tr th {\n",
       "        vertical-align: top;\n",
       "    }\n",
       "\n",
       "    .dataframe thead th {\n",
       "        text-align: right;\n",
       "    }\n",
       "</style>\n",
       "<table border=\"1\" class=\"dataframe\">\n",
       "  <thead>\n",
       "    <tr style=\"text-align: right;\">\n",
       "      <th></th>\n",
       "      <th>Data Year - Fiscal</th>\n",
       "      <th>Company Name</th>\n",
       "      <th>Market Value</th>\n",
       "    </tr>\n",
       "  </thead>\n",
       "  <tbody>\n",
       "    <tr>\n",
       "      <th>0</th>\n",
       "      <td>2014.0</td>\n",
       "      <td>AAR CORP</td>\n",
       "      <td>1108.07560</td>\n",
       "    </tr>\n",
       "    <tr>\n",
       "      <th>1</th>\n",
       "      <td>2015.0</td>\n",
       "      <td>AAR CORP</td>\n",
       "      <td>984.05094</td>\n",
       "    </tr>\n",
       "    <tr>\n",
       "      <th>3</th>\n",
       "      <td>2017.0</td>\n",
       "      <td>AAR CORP</td>\n",
       "      <td>1135.39970</td>\n",
       "    </tr>\n",
       "    <tr>\n",
       "      <th>4</th>\n",
       "      <td>2018.0</td>\n",
       "      <td>AAR CORP</td>\n",
       "      <td>1363.99164</td>\n",
       "    </tr>\n",
       "  </tbody>\n",
       "</table>\n",
       "</div>"
      ],
      "text/plain": [
       "   Data Year - Fiscal Company Name  Market Value\n",
       "0              2014.0     AAR CORP    1108.07560\n",
       "1              2015.0     AAR CORP     984.05094\n",
       "3              2017.0     AAR CORP    1135.39970\n",
       "4              2018.0     AAR CORP    1363.99164"
      ]
     },
     "execution_count": 9,
     "metadata": {},
     "output_type": "execute_result"
    }
   ],
   "source": [
    "# clean row\n",
    "AAR_df = _5df.loc[filt, show_col]\n",
    "print(AAR_df)\n",
    "AAR_df.drop(2)"
   ]
  },
  {
   "cell_type": "code",
   "execution_count": 10,
   "metadata": {},
   "outputs": [
    {
     "data": {
      "text/html": [
       "<div>\n",
       "<style scoped>\n",
       "    .dataframe tbody tr th:only-of-type {\n",
       "        vertical-align: middle;\n",
       "    }\n",
       "\n",
       "    .dataframe tbody tr th {\n",
       "        vertical-align: top;\n",
       "    }\n",
       "\n",
       "    .dataframe thead th {\n",
       "        text-align: right;\n",
       "    }\n",
       "</style>\n",
       "<table border=\"1\" class=\"dataframe\">\n",
       "  <thead>\n",
       "    <tr style=\"text-align: right;\">\n",
       "      <th></th>\n",
       "      <th>Data Year - Fiscal</th>\n",
       "      <th>Company Name</th>\n",
       "      <th>Market Value</th>\n",
       "    </tr>\n",
       "  </thead>\n",
       "  <tbody>\n",
       "    <tr>\n",
       "      <th>0</th>\n",
       "      <td>2014.0</td>\n",
       "      <td>AAR CORP</td>\n",
       "      <td>1108.07560</td>\n",
       "    </tr>\n",
       "    <tr>\n",
       "      <th>1</th>\n",
       "      <td>2015.0</td>\n",
       "      <td>AAR CORP</td>\n",
       "      <td>984.05094</td>\n",
       "    </tr>\n",
       "    <tr>\n",
       "      <th>2</th>\n",
       "      <td>2016.0</td>\n",
       "      <td>AAR CORP</td>\n",
       "      <td>907.39935</td>\n",
       "    </tr>\n",
       "    <tr>\n",
       "      <th>4</th>\n",
       "      <td>2018.0</td>\n",
       "      <td>AAR CORP</td>\n",
       "      <td>1363.99164</td>\n",
       "    </tr>\n",
       "  </tbody>\n",
       "</table>\n",
       "</div>"
      ],
      "text/plain": [
       "   Data Year - Fiscal Company Name  Market Value\n",
       "0              2014.0     AAR CORP    1108.07560\n",
       "1              2015.0     AAR CORP     984.05094\n",
       "2              2016.0     AAR CORP     907.39935\n",
       "4              2018.0     AAR CORP    1363.99164"
      ]
     },
     "execution_count": 10,
     "metadata": {},
     "output_type": "execute_result"
    }
   ],
   "source": [
    "# clean row \n",
    "filt= ~(_5df['Data Year - Fiscal'] == 2017.0) & (_5df['Company Name'] == 'AAR CORP')\n",
    "AAR_df = _5df.loc[filt, show_col]\n",
    "AAR_df"
   ]
  },
  {
   "cell_type": "code",
   "execution_count": 11,
   "metadata": {},
   "outputs": [],
   "source": [
    "AAR_df.to_excel(\"modified.xlsx\")"
   ]
  },
  {
   "cell_type": "code",
   "execution_count": null,
   "metadata": {},
   "outputs": [],
   "source": []
  },
  {
   "cell_type": "code",
   "execution_count": null,
   "metadata": {},
   "outputs": [],
   "source": []
  }
 ],
 "metadata": {
  "kernelspec": {
   "display_name": "Python 3",
   "language": "python",
   "name": "python3"
  },
  "language_info": {
   "codemirror_mode": {
    "name": "ipython",
    "version": 3
   },
   "file_extension": ".py",
   "mimetype": "text/x-python",
   "name": "python",
   "nbconvert_exporter": "python",
   "pygments_lexer": "ipython3",
   "version": "3.8.0"
  }
 },
 "nbformat": 4,
 "nbformat_minor": 4
}
