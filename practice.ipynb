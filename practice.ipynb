{
 "cells": [
  {
   "cell_type": "code",
   "execution_count": 1,
   "metadata": {},
   "outputs": [],
   "source": [
    "import pandas as pd"
   ]
  },
  {
   "cell_type": "code",
   "execution_count": 2,
   "metadata": {},
   "outputs": [
    {
     "data": {
      "text/plain": [
       "{'name': ['james', 'tina', 'eric', 'mike', 'donald'],\n",
       " 'phone': ['0910817850',\n",
       "  '0916173296',\n",
       "  '0999111222',\n",
       "  '09888888888',\n",
       "  '0999111222'],\n",
       " 'email': ['james@alcorlink.com',\n",
       "  'tina@tclink.com',\n",
       "  'erichsu@alcorlink.com',\n",
       "  'mike@alcorlink.com',\n",
       "  'donald@alcorlink.com']}"
      ]
     },
     "execution_count": 2,
     "metadata": {},
     "output_type": "execute_result"
    }
   ],
   "source": [
    "dic={'name':['james', 'tina','eric', 'mike', 'donald'], 'phone':['0910817850','0916173296','0999111222', '09888888888','0999111222'], 'email':['james@alcorlink.com', 'tina@tclink.com','erichsu@alcorlink.com', 'mike@alcorlink.com', 'donald@alcorlink.com']}\n",
    "dic"
   ]
  },
  {
   "cell_type": "code",
   "execution_count": 3,
   "metadata": {},
   "outputs": [],
   "source": [
    "df = pd.DataFrame(dic)"
   ]
  },
  {
   "cell_type": "code",
   "execution_count": 4,
   "metadata": {},
   "outputs": [
    {
     "data": {
      "text/html": [
       "<div>\n",
       "<style scoped>\n",
       "    .dataframe tbody tr th:only-of-type {\n",
       "        vertical-align: middle;\n",
       "    }\n",
       "\n",
       "    .dataframe tbody tr th {\n",
       "        vertical-align: top;\n",
       "    }\n",
       "\n",
       "    .dataframe thead th {\n",
       "        text-align: right;\n",
       "    }\n",
       "</style>\n",
       "<table border=\"1\" class=\"dataframe\">\n",
       "  <thead>\n",
       "    <tr style=\"text-align: right;\">\n",
       "      <th></th>\n",
       "      <th>name</th>\n",
       "      <th>phone</th>\n",
       "      <th>email</th>\n",
       "    </tr>\n",
       "  </thead>\n",
       "  <tbody>\n",
       "    <tr>\n",
       "      <th>0</th>\n",
       "      <td>james</td>\n",
       "      <td>0910817850</td>\n",
       "      <td>james@alcorlink.com</td>\n",
       "    </tr>\n",
       "    <tr>\n",
       "      <th>1</th>\n",
       "      <td>tina</td>\n",
       "      <td>0916173296</td>\n",
       "      <td>tina@tclink.com</td>\n",
       "    </tr>\n",
       "    <tr>\n",
       "      <th>2</th>\n",
       "      <td>eric</td>\n",
       "      <td>0999111222</td>\n",
       "      <td>erichsu@alcorlink.com</td>\n",
       "    </tr>\n",
       "    <tr>\n",
       "      <th>3</th>\n",
       "      <td>mike</td>\n",
       "      <td>09888888888</td>\n",
       "      <td>mike@alcorlink.com</td>\n",
       "    </tr>\n",
       "    <tr>\n",
       "      <th>4</th>\n",
       "      <td>donald</td>\n",
       "      <td>0999111222</td>\n",
       "      <td>donald@alcorlink.com</td>\n",
       "    </tr>\n",
       "  </tbody>\n",
       "</table>\n",
       "</div>"
      ],
      "text/plain": [
       "     name        phone                  email\n",
       "0   james   0910817850    james@alcorlink.com\n",
       "1    tina   0916173296        tina@tclink.com\n",
       "2    eric   0999111222  erichsu@alcorlink.com\n",
       "3    mike  09888888888     mike@alcorlink.com\n",
       "4  donald   0999111222   donald@alcorlink.com"
      ]
     },
     "execution_count": 4,
     "metadata": {},
     "output_type": "execute_result"
    }
   ],
   "source": [
    "df"
   ]
  },
  {
   "cell_type": "code",
   "execution_count": 5,
   "metadata": {},
   "outputs": [
    {
     "data": {
      "text/plain": [
       "name     5\n",
       "phone    5\n",
       "email    5\n",
       "dtype: int64"
      ]
     },
     "execution_count": 5,
     "metadata": {},
     "output_type": "execute_result"
    }
   ],
   "source": [
    "#####################################\n",
    "# df.drop(1)                # rows / index\n",
    "# df.drop('phone', axis=1)  # columns\n",
    "\n",
    "#####################################\n",
    "# df.shape                    # (rows, col)\n",
    "# [row for row in df.index]   # iter obj of rows\n",
    "# [col for col in df.columns] # iter obj of cols\n",
    "# df.info()                   # shows row, indexes, and types\n",
    "df.count()                    # count what? < items in cols >"
   ]
  },
  {
   "cell_type": "code",
   "execution_count": 6,
   "metadata": {},
   "outputs": [
    {
     "data": {
      "text/plain": [
       "0      james@alcorlink.com\n",
       "1          tina@tclink.com\n",
       "2    erichsu@alcorlink.com\n",
       "3       mike@alcorlink.com\n",
       "4     donald@alcorlink.com\n",
       "Name: email, dtype: object"
      ]
     },
     "execution_count": 6,
     "metadata": {},
     "output_type": "execute_result"
    }
   ],
   "source": [
    "#df['email']    # better, in case name is same as attribute of df. Ex: 'count'\n",
    "df.email        # "
   ]
  },
  {
   "cell_type": "code",
   "execution_count": 7,
   "metadata": {},
   "outputs": [
    {
     "data": {
      "text/plain": [
       "name     5\n",
       "phone    5\n",
       "email    5\n",
       "dtype: int64"
      ]
     },
     "execution_count": 7,
     "metadata": {},
     "output_type": "execute_result"
    }
   ],
   "source": [
    "df.count()\n",
    "# df.count"
   ]
  },
  {
   "cell_type": "code",
   "execution_count": 8,
   "metadata": {},
   "outputs": [
    {
     "data": {
      "text/plain": [
       "Index(['name', 'phone', 'email'], dtype='object')"
      ]
     },
     "execution_count": 8,
     "metadata": {},
     "output_type": "execute_result"
    }
   ],
   "source": [
    "# df['name','phone']   # col name that's 'name','phone'  xxxxxx\n",
    "df[['name','phone']]   # get multiple columns\n",
    "[col for col in df.columns]  # ['name', 'phone', 'email']\n",
    "df.columns                   # Index(['name', 'phone', 'email'], dtype='object')"
   ]
  },
  {
   "cell_type": "code",
   "execution_count": 9,
   "metadata": {},
   "outputs": [
    {
     "data": {
      "text/plain": [
       "0    0910817850\n",
       "1    0916173296\n",
       "Name: phone, dtype: object"
      ]
     },
     "execution_count": 9,
     "metadata": {},
     "output_type": "execute_result"
    }
   ],
   "source": [
    "# <iloc> get rows by index \n",
    "df.iloc[0]      # get 1st   row\n",
    "df.iloc[[0,1]]  # get multi rows\n",
    "\n",
    "# 2nd arg: columns\n",
    "df.iloc[[0,1],1]  # 1,2 row's 1st col"
   ]
  },
  {
   "cell_type": "code",
   "execution_count": 10,
   "metadata": {},
   "outputs": [
    {
     "data": {
      "text/plain": [
       "0    0910817850\n",
       "1    0916173296\n",
       "2    0999111222\n",
       "Name: phone, dtype: object"
      ]
     },
     "execution_count": 10,
     "metadata": {},
     "output_type": "execute_result"
    }
   ],
   "source": [
    "# loc combines with labels (later)\n",
    "df.loc[0]     # get 1st row\n",
    "df.loc[[0,1]] # get mult rows\n",
    "df.loc[[0,1],'phone']\n",
    "df.loc[0:2, 'phone']  # no brackets"
   ]
  },
  {
   "cell_type": "code",
   "execution_count": 11,
   "metadata": {},
   "outputs": [
    {
     "data": {
      "text/html": [
       "<div>\n",
       "<style scoped>\n",
       "    .dataframe tbody tr th:only-of-type {\n",
       "        vertical-align: middle;\n",
       "    }\n",
       "\n",
       "    .dataframe tbody tr th {\n",
       "        vertical-align: top;\n",
       "    }\n",
       "\n",
       "    .dataframe thead th {\n",
       "        text-align: right;\n",
       "    }\n",
       "</style>\n",
       "<table border=\"1\" class=\"dataframe\">\n",
       "  <thead>\n",
       "    <tr style=\"text-align: right;\">\n",
       "      <th></th>\n",
       "      <th>name</th>\n",
       "      <th>phone</th>\n",
       "      <th>email</th>\n",
       "    </tr>\n",
       "    <tr>\n",
       "      <th>name</th>\n",
       "      <th></th>\n",
       "      <th></th>\n",
       "      <th></th>\n",
       "    </tr>\n",
       "  </thead>\n",
       "  <tbody>\n",
       "    <tr>\n",
       "      <th>james</th>\n",
       "      <td>james</td>\n",
       "      <td>0910817850</td>\n",
       "      <td>james@alcorlink.com</td>\n",
       "    </tr>\n",
       "    <tr>\n",
       "      <th>tina</th>\n",
       "      <td>tina</td>\n",
       "      <td>0916173296</td>\n",
       "      <td>tina@tclink.com</td>\n",
       "    </tr>\n",
       "    <tr>\n",
       "      <th>eric</th>\n",
       "      <td>eric</td>\n",
       "      <td>0999111222</td>\n",
       "      <td>erichsu@alcorlink.com</td>\n",
       "    </tr>\n",
       "    <tr>\n",
       "      <th>mike</th>\n",
       "      <td>mike</td>\n",
       "      <td>09888888888</td>\n",
       "      <td>mike@alcorlink.com</td>\n",
       "    </tr>\n",
       "    <tr>\n",
       "      <th>donald</th>\n",
       "      <td>donald</td>\n",
       "      <td>0999111222</td>\n",
       "      <td>donald@alcorlink.com</td>\n",
       "    </tr>\n",
       "  </tbody>\n",
       "</table>\n",
       "</div>"
      ],
      "text/plain": [
       "          name        phone                  email\n",
       "name                                              \n",
       "james    james   0910817850    james@alcorlink.com\n",
       "tina      tina   0916173296        tina@tclink.com\n",
       "eric      eric   0999111222  erichsu@alcorlink.com\n",
       "mike      mike  09888888888     mike@alcorlink.com\n",
       "donald  donald   0999111222   donald@alcorlink.com"
      ]
     },
     "execution_count": 11,
     "metadata": {},
     "output_type": "execute_result"
    }
   ],
   "source": [
    "# set a column as index\n",
    "df.set_index(df['name']) \n",
    "### NOTE ###  \n",
    "# => df ususally doesn't do inplace,\n",
    "# => inplace = True"
   ]
  },
  {
   "cell_type": "code",
   "execution_count": 12,
   "metadata": {},
   "outputs": [
    {
     "data": {
      "text/plain": [
       "0    False\n",
       "1    False\n",
       "2     True\n",
       "3    False\n",
       "4     True\n",
       "Name: phone, dtype: bool"
      ]
     },
     "execution_count": 12,
     "metadata": {},
     "output_type": "execute_result"
    }
   ],
   "source": [
    "filt = (df['phone'] == '0999111222')  # Filter mask, True...False\n",
    "df['phone'] == '0999111222'"
   ]
  },
  {
   "cell_type": "code",
   "execution_count": 13,
   "metadata": {},
   "outputs": [
    {
     "data": {
      "text/html": [
       "<div>\n",
       "<style scoped>\n",
       "    .dataframe tbody tr th:only-of-type {\n",
       "        vertical-align: middle;\n",
       "    }\n",
       "\n",
       "    .dataframe tbody tr th {\n",
       "        vertical-align: top;\n",
       "    }\n",
       "\n",
       "    .dataframe thead th {\n",
       "        text-align: right;\n",
       "    }\n",
       "</style>\n",
       "<table border=\"1\" class=\"dataframe\">\n",
       "  <thead>\n",
       "    <tr style=\"text-align: right;\">\n",
       "      <th></th>\n",
       "      <th>name</th>\n",
       "      <th>phone</th>\n",
       "      <th>email</th>\n",
       "    </tr>\n",
       "  </thead>\n",
       "  <tbody>\n",
       "    <tr>\n",
       "      <th>2</th>\n",
       "      <td>eric</td>\n",
       "      <td>0999111222</td>\n",
       "      <td>erichsu@alcorlink.com</td>\n",
       "    </tr>\n",
       "    <tr>\n",
       "      <th>4</th>\n",
       "      <td>donald</td>\n",
       "      <td>0999111222</td>\n",
       "      <td>donald@alcorlink.com</td>\n",
       "    </tr>\n",
       "  </tbody>\n",
       "</table>\n",
       "</div>"
      ],
      "text/plain": [
       "     name       phone                  email\n",
       "2    eric  0999111222  erichsu@alcorlink.com\n",
       "4  donald  0999111222   donald@alcorlink.com"
      ]
     },
     "execution_count": 13,
     "metadata": {},
     "output_type": "execute_result"
    }
   ],
   "source": [
    "df[filt]"
   ]
  },
  {
   "cell_type": "code",
   "execution_count": 14,
   "metadata": {},
   "outputs": [
    {
     "data": {
      "text/plain": [
       "2    erichsu@alcorlink.com\n",
       "4     donald@alcorlink.com\n",
       "Name: email, dtype: object"
      ]
     },
     "execution_count": 14,
     "metadata": {},
     "output_type": "execute_result"
    }
   ],
   "source": [
    "df.loc[filt]\n",
    "df.loc[filt, 'email']"
   ]
  },
  {
   "cell_type": "code",
   "execution_count": 15,
   "metadata": {},
   "outputs": [
    {
     "data": {
      "text/html": [
       "<div>\n",
       "<style scoped>\n",
       "    .dataframe tbody tr th:only-of-type {\n",
       "        vertical-align: middle;\n",
       "    }\n",
       "\n",
       "    .dataframe tbody tr th {\n",
       "        vertical-align: top;\n",
       "    }\n",
       "\n",
       "    .dataframe thead th {\n",
       "        text-align: right;\n",
       "    }\n",
       "</style>\n",
       "<table border=\"1\" class=\"dataframe\">\n",
       "  <thead>\n",
       "    <tr style=\"text-align: right;\">\n",
       "      <th></th>\n",
       "      <th>name</th>\n",
       "      <th>phone</th>\n",
       "      <th>email</th>\n",
       "    </tr>\n",
       "  </thead>\n",
       "  <tbody>\n",
       "    <tr>\n",
       "      <th>0</th>\n",
       "      <td>james</td>\n",
       "      <td>0910817850</td>\n",
       "      <td>james@alcorlink.com</td>\n",
       "    </tr>\n",
       "    <tr>\n",
       "      <th>1</th>\n",
       "      <td>tina</td>\n",
       "      <td>0916173296</td>\n",
       "      <td>tina@tclink.com</td>\n",
       "    </tr>\n",
       "    <tr>\n",
       "      <th>2</th>\n",
       "      <td>eric</td>\n",
       "      <td>0999111222</td>\n",
       "      <td>erichsu@alcorlink.com</td>\n",
       "    </tr>\n",
       "    <tr>\n",
       "      <th>3</th>\n",
       "      <td>mike</td>\n",
       "      <td>09888888888</td>\n",
       "      <td>mike@alcorlink.com</td>\n",
       "    </tr>\n",
       "    <tr>\n",
       "      <th>4</th>\n",
       "      <td>donald</td>\n",
       "      <td>0999111222</td>\n",
       "      <td>donald@alcorlink.com</td>\n",
       "    </tr>\n",
       "  </tbody>\n",
       "</table>\n",
       "</div>"
      ],
      "text/plain": [
       "     name        phone                  email\n",
       "0   james   0910817850    james@alcorlink.com\n",
       "1    tina   0916173296        tina@tclink.com\n",
       "2    eric   0999111222  erichsu@alcorlink.com\n",
       "3    mike  09888888888     mike@alcorlink.com\n",
       "4  donald   0999111222   donald@alcorlink.com"
      ]
     },
     "execution_count": 15,
     "metadata": {},
     "output_type": "execute_result"
    }
   ],
   "source": [
    "df"
   ]
  },
  {
   "cell_type": "code",
   "execution_count": 16,
   "metadata": {},
   "outputs": [],
   "source": [
    "df.rename(columns={'phone':'tele'}, inplace = True)"
   ]
  },
  {
   "cell_type": "code",
   "execution_count": 17,
   "metadata": {},
   "outputs": [
    {
     "data": {
      "text/html": [
       "<div>\n",
       "<style scoped>\n",
       "    .dataframe tbody tr th:only-of-type {\n",
       "        vertical-align: middle;\n",
       "    }\n",
       "\n",
       "    .dataframe tbody tr th {\n",
       "        vertical-align: top;\n",
       "    }\n",
       "\n",
       "    .dataframe thead th {\n",
       "        text-align: right;\n",
       "    }\n",
       "</style>\n",
       "<table border=\"1\" class=\"dataframe\">\n",
       "  <thead>\n",
       "    <tr style=\"text-align: right;\">\n",
       "      <th></th>\n",
       "      <th>name</th>\n",
       "      <th>tele</th>\n",
       "      <th>email</th>\n",
       "    </tr>\n",
       "  </thead>\n",
       "  <tbody>\n",
       "    <tr>\n",
       "      <th>0</th>\n",
       "      <td>james</td>\n",
       "      <td>0910817850</td>\n",
       "      <td>james@alcorlink.com</td>\n",
       "    </tr>\n",
       "    <tr>\n",
       "      <th>1</th>\n",
       "      <td>tina</td>\n",
       "      <td>0916173296</td>\n",
       "      <td>tina@tclink.com</td>\n",
       "    </tr>\n",
       "    <tr>\n",
       "      <th>2</th>\n",
       "      <td>eric</td>\n",
       "      <td>0999111222</td>\n",
       "      <td>erichsu@alcorlink.com</td>\n",
       "    </tr>\n",
       "    <tr>\n",
       "      <th>3</th>\n",
       "      <td>mike</td>\n",
       "      <td>09888888888</td>\n",
       "      <td>mike@alcorlink.com</td>\n",
       "    </tr>\n",
       "    <tr>\n",
       "      <th>4</th>\n",
       "      <td>donald</td>\n",
       "      <td>0999111222</td>\n",
       "      <td>donald@alcorlink.com</td>\n",
       "    </tr>\n",
       "  </tbody>\n",
       "</table>\n",
       "</div>"
      ],
      "text/plain": [
       "     name         tele                  email\n",
       "0   james   0910817850    james@alcorlink.com\n",
       "1    tina   0916173296        tina@tclink.com\n",
       "2    eric   0999111222  erichsu@alcorlink.com\n",
       "3    mike  09888888888     mike@alcorlink.com\n",
       "4  donald   0999111222   donald@alcorlink.com"
      ]
     },
     "execution_count": 17,
     "metadata": {},
     "output_type": "execute_result"
    }
   ],
   "source": [
    "df"
   ]
  },
  {
   "cell_type": "code",
   "execution_count": 18,
   "metadata": {},
   "outputs": [],
   "source": [
    "df.loc[2,'tele']  = '0888888'"
   ]
  },
  {
   "cell_type": "code",
   "execution_count": 19,
   "metadata": {},
   "outputs": [],
   "source": [
    "df.loc[2, ['name','tele']] = ['eric2', '077777']\n",
    "#df[filt, 'tele'] = '0aaa' # xxxx use loc"
   ]
  },
  {
   "cell_type": "code",
   "execution_count": 20,
   "metadata": {},
   "outputs": [
    {
     "data": {
      "text/html": [
       "<div>\n",
       "<style scoped>\n",
       "    .dataframe tbody tr th:only-of-type {\n",
       "        vertical-align: middle;\n",
       "    }\n",
       "\n",
       "    .dataframe tbody tr th {\n",
       "        vertical-align: top;\n",
       "    }\n",
       "\n",
       "    .dataframe thead th {\n",
       "        text-align: right;\n",
       "    }\n",
       "</style>\n",
       "<table border=\"1\" class=\"dataframe\">\n",
       "  <thead>\n",
       "    <tr style=\"text-align: right;\">\n",
       "      <th></th>\n",
       "      <th>name</th>\n",
       "      <th>tele</th>\n",
       "      <th>email</th>\n",
       "    </tr>\n",
       "  </thead>\n",
       "  <tbody>\n",
       "    <tr>\n",
       "      <th>0</th>\n",
       "      <td>james</td>\n",
       "      <td>0910817850</td>\n",
       "      <td>james@alcorlink.com</td>\n",
       "    </tr>\n",
       "    <tr>\n",
       "      <th>1</th>\n",
       "      <td>tina</td>\n",
       "      <td>0916173296</td>\n",
       "      <td>tina@tclink.com</td>\n",
       "    </tr>\n",
       "    <tr>\n",
       "      <th>2</th>\n",
       "      <td>eric2</td>\n",
       "      <td>077777</td>\n",
       "      <td>erichsu@alcorlink.com</td>\n",
       "    </tr>\n",
       "    <tr>\n",
       "      <th>3</th>\n",
       "      <td>mike</td>\n",
       "      <td>09888888888</td>\n",
       "      <td>mike@alcorlink.com</td>\n",
       "    </tr>\n",
       "    <tr>\n",
       "      <th>4</th>\n",
       "      <td>donald</td>\n",
       "      <td>0999111222</td>\n",
       "      <td>donald@alcorlink.com</td>\n",
       "    </tr>\n",
       "  </tbody>\n",
       "</table>\n",
       "</div>"
      ],
      "text/plain": [
       "     name         tele                  email\n",
       "0   james   0910817850    james@alcorlink.com\n",
       "1    tina   0916173296        tina@tclink.com\n",
       "2   eric2       077777  erichsu@alcorlink.com\n",
       "3    mike  09888888888     mike@alcorlink.com\n",
       "4  donald   0999111222   donald@alcorlink.com"
      ]
     },
     "execution_count": 20,
     "metadata": {},
     "output_type": "execute_result"
    }
   ],
   "source": [
    "df"
   ]
  },
  {
   "cell_type": "code",
   "execution_count": 40,
   "metadata": {},
   "outputs": [
    {
     "data": {
      "text/html": [
       "<div>\n",
       "<style scoped>\n",
       "    .dataframe tbody tr th:only-of-type {\n",
       "        vertical-align: middle;\n",
       "    }\n",
       "\n",
       "    .dataframe tbody tr th {\n",
       "        vertical-align: top;\n",
       "    }\n",
       "\n",
       "    .dataframe thead th {\n",
       "        text-align: right;\n",
       "    }\n",
       "</style>\n",
       "<table border=\"1\" class=\"dataframe\">\n",
       "  <thead>\n",
       "    <tr style=\"text-align: right;\">\n",
       "      <th></th>\n",
       "      <th>name</th>\n",
       "      <th>tele</th>\n",
       "      <th>email</th>\n",
       "    </tr>\n",
       "  </thead>\n",
       "  <tbody>\n",
       "    <tr>\n",
       "      <th>0</th>\n",
       "      <td>james</td>\n",
       "      <td>0910817850</td>\n",
       "      <td>james@alcorlink.com</td>\n",
       "    </tr>\n",
       "    <tr>\n",
       "      <th>1</th>\n",
       "      <td>tina</td>\n",
       "      <td>0916173296</td>\n",
       "      <td>tina@tclink.com</td>\n",
       "    </tr>\n",
       "    <tr>\n",
       "      <th>2</th>\n",
       "      <td>eric2</td>\n",
       "      <td>077777</td>\n",
       "      <td>erichsu@alcorlink.com</td>\n",
       "    </tr>\n",
       "    <tr>\n",
       "      <th>3</th>\n",
       "      <td>mike</td>\n",
       "      <td>09888888888</td>\n",
       "      <td>mike@alcorlink.com</td>\n",
       "    </tr>\n",
       "    <tr>\n",
       "      <th>4</th>\n",
       "      <td>donald</td>\n",
       "      <td>0999111222</td>\n",
       "      <td>donald@alcorlink.com</td>\n",
       "    </tr>\n",
       "  </tbody>\n",
       "</table>\n",
       "</div>"
      ],
      "text/plain": [
       "     name         tele                  email\n",
       "0   james   0910817850    james@alcorlink.com\n",
       "1    tina   0916173296        tina@tclink.com\n",
       "2   eric2       077777  erichsu@alcorlink.com\n",
       "3    mike  09888888888     mike@alcorlink.com\n",
       "4  donald   0999111222   donald@alcorlink.com"
      ]
     },
     "execution_count": 40,
     "metadata": {},
     "output_type": "execute_result"
    }
   ],
   "source": [
    "df['name'] = df['name'].str.upper()\n",
    "# df = df.drop('james', axis=1)\n",
    "df['name'] = df['name'].str.lower()\n",
    "df"
   ]
  },
  {
   "cell_type": "code",
   "execution_count": 41,
   "metadata": {},
   "outputs": [],
   "source": [
    "# apply\n",
    "# map\n",
    "# applymap\n",
    "# replace"
   ]
  },
  {
   "cell_type": "code",
   "execution_count": 44,
   "metadata": {},
   "outputs": [
    {
     "data": {
      "text/plain": [
       "0    jam\n",
       "1    tin\n",
       "2    eri\n",
       "3    mik\n",
       "4    don\n",
       "Name: email, dtype: object"
      ]
     },
     "execution_count": 44,
     "metadata": {},
     "output_type": "execute_result"
    }
   ],
   "source": [
    "df['email'].apply(lambda s: s[:3])  # apply to columns...."
   ]
  },
  {
   "cell_type": "code",
   "execution_count": 54,
   "metadata": {},
   "outputs": [
    {
     "data": {
      "text/plain": [
       "0     jmsacrikcm\n",
       "1       tn@cikcm\n",
       "2    eihuacrikcm\n",
       "3      mk@loln.o\n",
       "4     dnl@loln.o\n",
       "Name: email, dtype: object"
      ]
     },
     "execution_count": 54,
     "metadata": {},
     "output_type": "execute_result"
    }
   ],
   "source": [
    "# james@alcorlink.com -> jmsa....(even chars)\n",
    "[_ for idx, _ in enumerate(\"hello\") if idx % 2 == 0]\n",
    "df['email'].apply(lambda s: \"\".join([_ for idx, _ in enumerate(s) if idx % 2 == 0]))"
   ]
  },
  {
   "cell_type": "code",
   "execution_count": 56,
   "metadata": {},
   "outputs": [
    {
     "data": {
      "text/plain": [
       "name     5\n",
       "tele     5\n",
       "email    5\n",
       "dtype: int64"
      ]
     },
     "execution_count": 56,
     "metadata": {},
     "output_type": "execute_result"
    }
   ],
   "source": [
    "df.apply(len)"
   ]
  },
  {
   "cell_type": "code",
   "execution_count": 58,
   "metadata": {},
   "outputs": [
    {
     "data": {
      "text/plain": [
       "0    3\n",
       "1    3\n",
       "2    3\n",
       "3    3\n",
       "4    3\n",
       "dtype: int64"
      ]
     },
     "execution_count": 58,
     "metadata": {},
     "output_type": "execute_result"
    }
   ],
   "source": [
    "df.apply(len, axis='columns') # axis = columns ==> How many columns?"
   ]
  },
  {
   "cell_type": "code",
   "execution_count": null,
   "metadata": {},
   "outputs": [],
   "source": []
  }
 ],
 "metadata": {
  "kernelspec": {
   "display_name": "Python 3",
   "language": "python",
   "name": "python3"
  },
  "language_info": {
   "codemirror_mode": {
    "name": "ipython",
    "version": 3
   },
   "file_extension": ".py",
   "mimetype": "text/x-python",
   "name": "python",
   "nbconvert_exporter": "python",
   "pygments_lexer": "ipython3",
   "version": "3.8.0"
  }
 },
 "nbformat": 4,
 "nbformat_minor": 4
}
